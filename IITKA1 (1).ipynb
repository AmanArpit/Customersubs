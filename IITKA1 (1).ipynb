{
 "cells": [
  {
   "cell_type": "markdown",
   "id": "48b2535b",
   "metadata": {},
   "source": [
    "# AMAN ARPIT"
   ]
  },
  {
   "cell_type": "code",
   "execution_count": 116,
   "id": "2cc4b5a0",
   "metadata": {},
   "outputs": [],
   "source": [
    "# Importing the required Libraries\n",
    "import pandas as pd\n",
    "import numpy as np\n",
    "from datetime import datetime as dt\n",
    "from scipy import stats\n",
    "\n",
    "# Visualization\n",
    "import matplotlib.pyplot as plt\n",
    "import seaborn as sns; sns.set()\n",
    "\n",
    "# Data Preprocessing\n",
    "from sklearn.model_selection import train_test_split\n",
    "from sklearn.compose import ColumnTransformer\n",
    "from sklearn.pipeline import Pipeline\n",
    "from sklearn.preprocessing import StandardScaler\n",
    "from sklearn.preprocessing import OneHotEncoder, OrdinalEncoder\n",
    "from sklearn.preprocessing import PowerTransformer\n",
    "\n",
    "# Model\n",
    "from sklearn.linear_model import LogisticRegression\n",
    "from sklearn.tree import DecisionTreeClassifier\n",
    "from sklearn.ensemble import RandomForestClassifier, AdaBoostClassifier\n",
    "from sklearn.neighbors import KNeighborsClassifier\n",
    "from sklearn.naive_bayes import GaussianNB\n",
    "from sklearn.svm import SVC\n",
    "from sklearn.model_selection import cross_val_score, GridSearchCV\n",
    "\n",
    "from sklearn.metrics import accuracy_score, classification_report, confusion_matrix\n",
    "\n"
   ]
  },
  {
   "cell_type": "code",
   "execution_count": 5,
   "id": "837a1297",
   "metadata": {},
   "outputs": [],
   "source": [
    "#Loding the dataset\n",
    "df = pd.read_csv(r\"C:\\Users\\91700\\Downloads\\bank+marketing\\bank-additional\\bank-additional\\bank-additional-full.csv\", delimiter=';')\n",
    "df_raw = df.copy()"
   ]
  },
  {
   "cell_type": "code",
   "execution_count": 6,
   "id": "eb1d9972",
   "metadata": {},
   "outputs": [
    {
     "data": {
      "text/html": [
       "<div>\n",
       "<style scoped>\n",
       "    .dataframe tbody tr th:only-of-type {\n",
       "        vertical-align: middle;\n",
       "    }\n",
       "\n",
       "    .dataframe tbody tr th {\n",
       "        vertical-align: top;\n",
       "    }\n",
       "\n",
       "    .dataframe thead th {\n",
       "        text-align: right;\n",
       "    }\n",
       "</style>\n",
       "<table border=\"1\" class=\"dataframe\">\n",
       "  <thead>\n",
       "    <tr style=\"text-align: right;\">\n",
       "      <th></th>\n",
       "      <th>age</th>\n",
       "      <th>job</th>\n",
       "      <th>marital</th>\n",
       "      <th>education</th>\n",
       "      <th>default</th>\n",
       "      <th>housing</th>\n",
       "      <th>loan</th>\n",
       "      <th>contact</th>\n",
       "      <th>month</th>\n",
       "      <th>day_of_week</th>\n",
       "      <th>...</th>\n",
       "      <th>campaign</th>\n",
       "      <th>pdays</th>\n",
       "      <th>previous</th>\n",
       "      <th>poutcome</th>\n",
       "      <th>emp.var.rate</th>\n",
       "      <th>cons.price.idx</th>\n",
       "      <th>cons.conf.idx</th>\n",
       "      <th>euribor3m</th>\n",
       "      <th>nr.employed</th>\n",
       "      <th>y</th>\n",
       "    </tr>\n",
       "  </thead>\n",
       "  <tbody>\n",
       "    <tr>\n",
       "      <th>0</th>\n",
       "      <td>56</td>\n",
       "      <td>housemaid</td>\n",
       "      <td>married</td>\n",
       "      <td>basic.4y</td>\n",
       "      <td>no</td>\n",
       "      <td>no</td>\n",
       "      <td>no</td>\n",
       "      <td>telephone</td>\n",
       "      <td>may</td>\n",
       "      <td>mon</td>\n",
       "      <td>...</td>\n",
       "      <td>1</td>\n",
       "      <td>999</td>\n",
       "      <td>0</td>\n",
       "      <td>nonexistent</td>\n",
       "      <td>1.1</td>\n",
       "      <td>93.994</td>\n",
       "      <td>-36.4</td>\n",
       "      <td>4.857</td>\n",
       "      <td>5191.0</td>\n",
       "      <td>no</td>\n",
       "    </tr>\n",
       "    <tr>\n",
       "      <th>1</th>\n",
       "      <td>57</td>\n",
       "      <td>services</td>\n",
       "      <td>married</td>\n",
       "      <td>high.school</td>\n",
       "      <td>unknown</td>\n",
       "      <td>no</td>\n",
       "      <td>no</td>\n",
       "      <td>telephone</td>\n",
       "      <td>may</td>\n",
       "      <td>mon</td>\n",
       "      <td>...</td>\n",
       "      <td>1</td>\n",
       "      <td>999</td>\n",
       "      <td>0</td>\n",
       "      <td>nonexistent</td>\n",
       "      <td>1.1</td>\n",
       "      <td>93.994</td>\n",
       "      <td>-36.4</td>\n",
       "      <td>4.857</td>\n",
       "      <td>5191.0</td>\n",
       "      <td>no</td>\n",
       "    </tr>\n",
       "    <tr>\n",
       "      <th>2</th>\n",
       "      <td>37</td>\n",
       "      <td>services</td>\n",
       "      <td>married</td>\n",
       "      <td>high.school</td>\n",
       "      <td>no</td>\n",
       "      <td>yes</td>\n",
       "      <td>no</td>\n",
       "      <td>telephone</td>\n",
       "      <td>may</td>\n",
       "      <td>mon</td>\n",
       "      <td>...</td>\n",
       "      <td>1</td>\n",
       "      <td>999</td>\n",
       "      <td>0</td>\n",
       "      <td>nonexistent</td>\n",
       "      <td>1.1</td>\n",
       "      <td>93.994</td>\n",
       "      <td>-36.4</td>\n",
       "      <td>4.857</td>\n",
       "      <td>5191.0</td>\n",
       "      <td>no</td>\n",
       "    </tr>\n",
       "    <tr>\n",
       "      <th>3</th>\n",
       "      <td>40</td>\n",
       "      <td>admin.</td>\n",
       "      <td>married</td>\n",
       "      <td>basic.6y</td>\n",
       "      <td>no</td>\n",
       "      <td>no</td>\n",
       "      <td>no</td>\n",
       "      <td>telephone</td>\n",
       "      <td>may</td>\n",
       "      <td>mon</td>\n",
       "      <td>...</td>\n",
       "      <td>1</td>\n",
       "      <td>999</td>\n",
       "      <td>0</td>\n",
       "      <td>nonexistent</td>\n",
       "      <td>1.1</td>\n",
       "      <td>93.994</td>\n",
       "      <td>-36.4</td>\n",
       "      <td>4.857</td>\n",
       "      <td>5191.0</td>\n",
       "      <td>no</td>\n",
       "    </tr>\n",
       "    <tr>\n",
       "      <th>4</th>\n",
       "      <td>56</td>\n",
       "      <td>services</td>\n",
       "      <td>married</td>\n",
       "      <td>high.school</td>\n",
       "      <td>no</td>\n",
       "      <td>no</td>\n",
       "      <td>yes</td>\n",
       "      <td>telephone</td>\n",
       "      <td>may</td>\n",
       "      <td>mon</td>\n",
       "      <td>...</td>\n",
       "      <td>1</td>\n",
       "      <td>999</td>\n",
       "      <td>0</td>\n",
       "      <td>nonexistent</td>\n",
       "      <td>1.1</td>\n",
       "      <td>93.994</td>\n",
       "      <td>-36.4</td>\n",
       "      <td>4.857</td>\n",
       "      <td>5191.0</td>\n",
       "      <td>no</td>\n",
       "    </tr>\n",
       "  </tbody>\n",
       "</table>\n",
       "<p>5 rows × 21 columns</p>\n",
       "</div>"
      ],
      "text/plain": [
       "   age        job  marital    education  default housing loan    contact  \\\n",
       "0   56  housemaid  married     basic.4y       no      no   no  telephone   \n",
       "1   57   services  married  high.school  unknown      no   no  telephone   \n",
       "2   37   services  married  high.school       no     yes   no  telephone   \n",
       "3   40     admin.  married     basic.6y       no      no   no  telephone   \n",
       "4   56   services  married  high.school       no      no  yes  telephone   \n",
       "\n",
       "  month day_of_week  ...  campaign  pdays  previous     poutcome emp.var.rate  \\\n",
       "0   may         mon  ...         1    999         0  nonexistent          1.1   \n",
       "1   may         mon  ...         1    999         0  nonexistent          1.1   \n",
       "2   may         mon  ...         1    999         0  nonexistent          1.1   \n",
       "3   may         mon  ...         1    999         0  nonexistent          1.1   \n",
       "4   may         mon  ...         1    999         0  nonexistent          1.1   \n",
       "\n",
       "   cons.price.idx  cons.conf.idx  euribor3m  nr.employed   y  \n",
       "0          93.994          -36.4      4.857       5191.0  no  \n",
       "1          93.994          -36.4      4.857       5191.0  no  \n",
       "2          93.994          -36.4      4.857       5191.0  no  \n",
       "3          93.994          -36.4      4.857       5191.0  no  \n",
       "4          93.994          -36.4      4.857       5191.0  no  \n",
       "\n",
       "[5 rows x 21 columns]"
      ]
     },
     "execution_count": 6,
     "metadata": {},
     "output_type": "execute_result"
    }
   ],
   "source": [
    "df_raw.head()"
   ]
  },
  {
   "cell_type": "code",
   "execution_count": 7,
   "id": "260626b1",
   "metadata": {},
   "outputs": [
    {
     "name": "stdout",
     "output_type": "stream",
     "text": [
      "<class 'pandas.core.frame.DataFrame'>\n",
      "RangeIndex: 41188 entries, 0 to 41187\n",
      "Data columns (total 21 columns):\n",
      " #   Column          Non-Null Count  Dtype  \n",
      "---  ------          --------------  -----  \n",
      " 0   age             41188 non-null  int64  \n",
      " 1   job             41188 non-null  object \n",
      " 2   marital         41188 non-null  object \n",
      " 3   education       41188 non-null  object \n",
      " 4   default         41188 non-null  object \n",
      " 5   housing         41188 non-null  object \n",
      " 6   loan            41188 non-null  object \n",
      " 7   contact         41188 non-null  object \n",
      " 8   month           41188 non-null  object \n",
      " 9   day_of_week     41188 non-null  object \n",
      " 10  duration        41188 non-null  int64  \n",
      " 11  campaign        41188 non-null  int64  \n",
      " 12  pdays           41188 non-null  int64  \n",
      " 13  previous        41188 non-null  int64  \n",
      " 14  poutcome        41188 non-null  object \n",
      " 15  emp.var.rate    41188 non-null  float64\n",
      " 16  cons.price.idx  41188 non-null  float64\n",
      " 17  cons.conf.idx   41188 non-null  float64\n",
      " 18  euribor3m       41188 non-null  float64\n",
      " 19  nr.employed     41188 non-null  float64\n",
      " 20  y               41188 non-null  object \n",
      "dtypes: float64(5), int64(5), object(11)\n",
      "memory usage: 6.6+ MB\n"
     ]
    }
   ],
   "source": [
    "df_raw.info()"
   ]
  },
  {
   "cell_type": "code",
   "execution_count": 9,
   "id": "d78c1e95",
   "metadata": {},
   "outputs": [
    {
     "data": {
      "text/plain": [
       "(41188, 21)"
      ]
     },
     "execution_count": 9,
     "metadata": {},
     "output_type": "execute_result"
    }
   ],
   "source": [
    "df_raw.shape"
   ]
  },
  {
   "cell_type": "code",
   "execution_count": 11,
   "id": "62188d9e",
   "metadata": {},
   "outputs": [
    {
     "data": {
      "text/plain": [
       "age               0\n",
       "job               0\n",
       "marital           0\n",
       "education         0\n",
       "default           0\n",
       "housing           0\n",
       "loan              0\n",
       "contact           0\n",
       "month             0\n",
       "day_of_week       0\n",
       "duration          0\n",
       "campaign          0\n",
       "pdays             0\n",
       "previous          0\n",
       "poutcome          0\n",
       "emp.var.rate      0\n",
       "cons.price.idx    0\n",
       "cons.conf.idx     0\n",
       "euribor3m         0\n",
       "nr.employed       0\n",
       "y                 0\n",
       "dtype: int64"
      ]
     },
     "execution_count": 11,
     "metadata": {},
     "output_type": "execute_result"
    }
   ],
   "source": [
    "df_raw.isnull().sum()"
   ]
  },
  {
   "cell_type": "code",
   "execution_count": 12,
   "id": "08d322bc",
   "metadata": {},
   "outputs": [
    {
     "data": {
      "text/html": [
       "<div>\n",
       "<style scoped>\n",
       "    .dataframe tbody tr th:only-of-type {\n",
       "        vertical-align: middle;\n",
       "    }\n",
       "\n",
       "    .dataframe tbody tr th {\n",
       "        vertical-align: top;\n",
       "    }\n",
       "\n",
       "    .dataframe thead th {\n",
       "        text-align: right;\n",
       "    }\n",
       "</style>\n",
       "<table border=\"1\" class=\"dataframe\">\n",
       "  <thead>\n",
       "    <tr style=\"text-align: right;\">\n",
       "      <th></th>\n",
       "      <th>age</th>\n",
       "      <th>duration</th>\n",
       "      <th>campaign</th>\n",
       "      <th>pdays</th>\n",
       "      <th>previous</th>\n",
       "      <th>emp.var.rate</th>\n",
       "      <th>cons.price.idx</th>\n",
       "      <th>cons.conf.idx</th>\n",
       "      <th>euribor3m</th>\n",
       "      <th>nr.employed</th>\n",
       "    </tr>\n",
       "  </thead>\n",
       "  <tbody>\n",
       "    <tr>\n",
       "      <th>count</th>\n",
       "      <td>41188.00000</td>\n",
       "      <td>41188.000000</td>\n",
       "      <td>41188.000000</td>\n",
       "      <td>41188.000000</td>\n",
       "      <td>41188.000000</td>\n",
       "      <td>41188.000000</td>\n",
       "      <td>41188.000000</td>\n",
       "      <td>41188.000000</td>\n",
       "      <td>41188.000000</td>\n",
       "      <td>41188.000000</td>\n",
       "    </tr>\n",
       "    <tr>\n",
       "      <th>mean</th>\n",
       "      <td>40.02406</td>\n",
       "      <td>258.285010</td>\n",
       "      <td>2.567593</td>\n",
       "      <td>962.475454</td>\n",
       "      <td>0.172963</td>\n",
       "      <td>0.081886</td>\n",
       "      <td>93.575664</td>\n",
       "      <td>-40.502600</td>\n",
       "      <td>3.621291</td>\n",
       "      <td>5167.035911</td>\n",
       "    </tr>\n",
       "    <tr>\n",
       "      <th>std</th>\n",
       "      <td>10.42125</td>\n",
       "      <td>259.279249</td>\n",
       "      <td>2.770014</td>\n",
       "      <td>186.910907</td>\n",
       "      <td>0.494901</td>\n",
       "      <td>1.570960</td>\n",
       "      <td>0.578840</td>\n",
       "      <td>4.628198</td>\n",
       "      <td>1.734447</td>\n",
       "      <td>72.251528</td>\n",
       "    </tr>\n",
       "    <tr>\n",
       "      <th>min</th>\n",
       "      <td>17.00000</td>\n",
       "      <td>0.000000</td>\n",
       "      <td>1.000000</td>\n",
       "      <td>0.000000</td>\n",
       "      <td>0.000000</td>\n",
       "      <td>-3.400000</td>\n",
       "      <td>92.201000</td>\n",
       "      <td>-50.800000</td>\n",
       "      <td>0.634000</td>\n",
       "      <td>4963.600000</td>\n",
       "    </tr>\n",
       "    <tr>\n",
       "      <th>25%</th>\n",
       "      <td>32.00000</td>\n",
       "      <td>102.000000</td>\n",
       "      <td>1.000000</td>\n",
       "      <td>999.000000</td>\n",
       "      <td>0.000000</td>\n",
       "      <td>-1.800000</td>\n",
       "      <td>93.075000</td>\n",
       "      <td>-42.700000</td>\n",
       "      <td>1.344000</td>\n",
       "      <td>5099.100000</td>\n",
       "    </tr>\n",
       "    <tr>\n",
       "      <th>50%</th>\n",
       "      <td>38.00000</td>\n",
       "      <td>180.000000</td>\n",
       "      <td>2.000000</td>\n",
       "      <td>999.000000</td>\n",
       "      <td>0.000000</td>\n",
       "      <td>1.100000</td>\n",
       "      <td>93.749000</td>\n",
       "      <td>-41.800000</td>\n",
       "      <td>4.857000</td>\n",
       "      <td>5191.000000</td>\n",
       "    </tr>\n",
       "    <tr>\n",
       "      <th>75%</th>\n",
       "      <td>47.00000</td>\n",
       "      <td>319.000000</td>\n",
       "      <td>3.000000</td>\n",
       "      <td>999.000000</td>\n",
       "      <td>0.000000</td>\n",
       "      <td>1.400000</td>\n",
       "      <td>93.994000</td>\n",
       "      <td>-36.400000</td>\n",
       "      <td>4.961000</td>\n",
       "      <td>5228.100000</td>\n",
       "    </tr>\n",
       "    <tr>\n",
       "      <th>max</th>\n",
       "      <td>98.00000</td>\n",
       "      <td>4918.000000</td>\n",
       "      <td>56.000000</td>\n",
       "      <td>999.000000</td>\n",
       "      <td>7.000000</td>\n",
       "      <td>1.400000</td>\n",
       "      <td>94.767000</td>\n",
       "      <td>-26.900000</td>\n",
       "      <td>5.045000</td>\n",
       "      <td>5228.100000</td>\n",
       "    </tr>\n",
       "  </tbody>\n",
       "</table>\n",
       "</div>"
      ],
      "text/plain": [
       "               age      duration      campaign         pdays      previous  \\\n",
       "count  41188.00000  41188.000000  41188.000000  41188.000000  41188.000000   \n",
       "mean      40.02406    258.285010      2.567593    962.475454      0.172963   \n",
       "std       10.42125    259.279249      2.770014    186.910907      0.494901   \n",
       "min       17.00000      0.000000      1.000000      0.000000      0.000000   \n",
       "25%       32.00000    102.000000      1.000000    999.000000      0.000000   \n",
       "50%       38.00000    180.000000      2.000000    999.000000      0.000000   \n",
       "75%       47.00000    319.000000      3.000000    999.000000      0.000000   \n",
       "max       98.00000   4918.000000     56.000000    999.000000      7.000000   \n",
       "\n",
       "       emp.var.rate  cons.price.idx  cons.conf.idx     euribor3m   nr.employed  \n",
       "count  41188.000000    41188.000000   41188.000000  41188.000000  41188.000000  \n",
       "mean       0.081886       93.575664     -40.502600      3.621291   5167.035911  \n",
       "std        1.570960        0.578840       4.628198      1.734447     72.251528  \n",
       "min       -3.400000       92.201000     -50.800000      0.634000   4963.600000  \n",
       "25%       -1.800000       93.075000     -42.700000      1.344000   5099.100000  \n",
       "50%        1.100000       93.749000     -41.800000      4.857000   5191.000000  \n",
       "75%        1.400000       93.994000     -36.400000      4.961000   5228.100000  \n",
       "max        1.400000       94.767000     -26.900000      5.045000   5228.100000  "
      ]
     },
     "execution_count": 12,
     "metadata": {},
     "output_type": "execute_result"
    }
   ],
   "source": [
    "df_raw.describe()"
   ]
  },
  {
   "cell_type": "markdown",
   "id": "0cb445b1",
   "metadata": {},
   "source": [
    "\n",
    "\n",
    "# Exploratory Data Analysis"
   ]
  },
  {
   "cell_type": "code",
   "execution_count": 14,
   "id": "8740243c",
   "metadata": {},
   "outputs": [
    {
     "data": {
      "text/plain": [
       "12"
      ]
     },
     "execution_count": 14,
     "metadata": {},
     "output_type": "execute_result"
    }
   ],
   "source": [
    "#checking for duplicate data\n",
    "df_raw.duplicated().sum()"
   ]
  },
  {
   "cell_type": "code",
   "execution_count": 19,
   "id": "4ac7b514",
   "metadata": {},
   "outputs": [
    {
     "name": "stdout",
     "output_type": "stream",
     "text": [
      "Before :  (41188, 21)\n",
      "After :  (41176, 21)\n",
      "Number of duplicate data are:  0\n"
     ]
    }
   ],
   "source": [
    "#As there are 12 duplicate values let's drop those values\n",
    "print(\"Before : \",df_raw.shape)\n",
    "df_n=df_raw.drop_duplicates()\n",
    "df_n.reset_index(drop=True, inplace=True)\n",
    "print(\"After : \",df_n.shape)\n",
    "\n",
    "print(\"Number of duplicate data are: \",df_n.duplicated().sum())"
   ]
  },
  {
   "cell_type": "code",
   "execution_count": 20,
   "id": "d90149ba",
   "metadata": {},
   "outputs": [
    {
     "name": "stdout",
     "output_type": "stream",
     "text": [
      "variable : age\n",
      "\n",
      "Descriptive stats:\n",
      "count    41188.00000\n",
      "mean        40.02406\n",
      "std         10.42125\n",
      "min         17.00000\n",
      "50%         38.00000\n",
      "max         98.00000\n",
      "Name: age, dtype: float64\n"
     ]
    }
   ],
   "source": [
    "# Preliminary Check\n",
    "# Variable : age\n",
    "# Description : Customer's age\n",
    "\n",
    "var ='age'\n",
    "print('variable :', var)\n",
    "print()\n",
    "print('Descriptive stats:')\n",
    "print(df[var].describe(percentiles=[0.5]))"
   ]
  },
  {
   "cell_type": "markdown",
   "id": "cf9f1b41",
   "metadata": {},
   "source": [
    "The minimum age is 17 ,max age is 98 and mean is around 40\n"
   ]
  },
  {
   "cell_type": "code",
   "execution_count": 21,
   "id": "f1826169",
   "metadata": {},
   "outputs": [
    {
     "name": "stdout",
     "output_type": "stream",
     "text": [
      "variable: job\n",
      "\n",
      "Unique Value Count: 12\n",
      "['housemaid' 'services' 'admin.' 'blue-collar' 'technician' 'retired'\n",
      " 'management' 'unemployed' 'self-employed' 'unknown' 'entrepreneur'\n",
      " 'student']\n"
     ]
    }
   ],
   "source": [
    "# Variable : job\n",
    "# Description : types of job\n",
    "\n",
    "var='job'\n",
    "print('variable:', var)\n",
    "print()\n",
    "print('Unique Value Count:', df[var].nunique())\n",
    "print(df[var].unique())"
   ]
  },
  {
   "cell_type": "code",
   "execution_count": 22,
   "id": "94081f67",
   "metadata": {},
   "outputs": [
    {
     "name": "stdout",
     "output_type": "stream",
     "text": [
      "variable: marital\n",
      "\n",
      "Unique Value Count: 4\n",
      "['married' 'single' 'divorced' 'unknown']\n"
     ]
    }
   ],
   "source": [
    "# Variable : marital\n",
    "# Description : marital status\n",
    "\n",
    "var = 'marital'\n",
    "\n",
    "print('variable:', var)\n",
    "print()\n",
    "print('Unique Value Count:', df[var].nunique())\n",
    "print(df[var].unique())"
   ]
  },
  {
   "cell_type": "code",
   "execution_count": 23,
   "id": "08675f43",
   "metadata": {},
   "outputs": [
    {
     "name": "stdout",
     "output_type": "stream",
     "text": [
      "variable: education\n",
      "\n",
      "Unique Value Count: 8\n",
      "['basic.4y' 'high.school' 'basic.6y' 'basic.9y' 'professional.course'\n",
      " 'unknown' 'university.degree' 'illiterate']\n"
     ]
    }
   ],
   "source": [
    "# Variable : education\n",
    "\n",
    "var = 'education'\n",
    "print('variable:', var)\n",
    "print()\n",
    "print('Unique Value Count:', df[var].nunique())\n",
    "print(df[var].unique())\n"
   ]
  },
  {
   "cell_type": "code",
   "execution_count": 24,
   "id": "cb2f64ec",
   "metadata": {},
   "outputs": [
    {
     "name": "stdout",
     "output_type": "stream",
     "text": [
      "variable: default\n",
      "\n",
      "Unique Value Count: 3\n",
      "['no' 'unknown' 'yes']\n"
     ]
    }
   ],
   "source": [
    "# Variable : default\n",
    "\n",
    "var = 'default'\n",
    "print('variable:', var)\n",
    "print()\n",
    "print('Unique Value Count:', df[var].nunique())\n",
    "print(df[var].unique())"
   ]
  },
  {
   "cell_type": "code",
   "execution_count": 25,
   "id": "d5ebc1a1",
   "metadata": {},
   "outputs": [
    {
     "name": "stdout",
     "output_type": "stream",
     "text": [
      "variable: housing\n",
      "\n",
      "Unique Value Count: 3\n",
      "['no' 'yes' 'unknown']\n"
     ]
    }
   ],
   "source": [
    "# Variable : housing\n",
    "\n",
    "\n",
    "var ='housing'\n",
    "\n",
    "print('variable:', var)\n",
    "print()\n",
    "print('Unique Value Count:', df[var].nunique())\n",
    "print(df[var].unique())"
   ]
  },
  {
   "cell_type": "code",
   "execution_count": 26,
   "id": "f3b6dfd6",
   "metadata": {},
   "outputs": [
    {
     "name": "stdout",
     "output_type": "stream",
     "text": [
      "variable: month\n",
      "\n",
      "Unique Value Count: 10\n",
      "['may' 'jun' 'jul' 'aug' 'oct' 'nov' 'dec' 'mar' 'apr' 'sep']\n",
      "object\n"
     ]
    }
   ],
   "source": [
    "# Preliminary Check\n",
    "# Variable : month\n",
    "# Description :last contact month of year \n",
    "var = 'month'\n",
    "print('variable:', var)\n",
    "print()\n",
    "print('Unique Value Count:', df[var].nunique())\n",
    "print(df[var].unique())\n",
    "print(df[var].dtype)"
   ]
  },
  {
   "cell_type": "code",
   "execution_count": 27,
   "id": "63fc5fb0",
   "metadata": {},
   "outputs": [
    {
     "name": "stdout",
     "output_type": "stream",
     "text": [
      "[5 6 7 8 10 11 12 3 4 9]\n"
     ]
    }
   ],
   "source": [
    "#converting months into numerical value\n",
    "month_rename = {'may':5, 'jun':6, 'jul':7, 'aug':8, 'oct':10, 'nov':11, 'dec':12, 'mar':3, 'apr':4, 'sep':9}\n",
    "df['month'] = df['month'].map(month_rename).astype(object)\n",
    "\n",
    "print(df['month'].unique())"
   ]
  },
  {
   "cell_type": "code",
   "execution_count": 29,
   "id": "1eb606cb",
   "metadata": {},
   "outputs": [
    {
     "name": "stdout",
     "output_type": "stream",
     "text": [
      "variable: day_of_week\n",
      "\n",
      "Unique Value Count: 5\n",
      "['mon' 'tue' 'wed' 'thu' 'fri']\n",
      "object\n"
     ]
    }
   ],
   "source": [
    "var = 'day_of_week'\n",
    "\n",
    "print('variable:', var)\n",
    "print()\n",
    "print('Unique Value Count:', df[var].nunique())\n",
    "print(df[var].unique())\n",
    "print(df[var].dtype)"
   ]
  },
  {
   "cell_type": "code",
   "execution_count": 30,
   "id": "e462e944",
   "metadata": {},
   "outputs": [
    {
     "name": "stdout",
     "output_type": "stream",
     "text": [
      "[1 2 3 4 5]\n"
     ]
    }
   ],
   "source": [
    "days_rename = {'mon':1, 'tue':2, 'wed':3, 'thu':4, 'fri':5,}\n",
    "df['day_of_week'] = df['day_of_week'].map(days_rename)\n",
    "\n",
    "print(df['day_of_week'].unique())"
   ]
  },
  {
   "cell_type": "code",
   "execution_count": 31,
   "id": "4d5c3068",
   "metadata": {},
   "outputs": [
    {
     "data": {
      "text/html": [
       "<div>\n",
       "<style scoped>\n",
       "    .dataframe tbody tr th:only-of-type {\n",
       "        vertical-align: middle;\n",
       "    }\n",
       "\n",
       "    .dataframe tbody tr th {\n",
       "        vertical-align: top;\n",
       "    }\n",
       "\n",
       "    .dataframe thead th {\n",
       "        text-align: right;\n",
       "    }\n",
       "</style>\n",
       "<table border=\"1\" class=\"dataframe\">\n",
       "  <thead>\n",
       "    <tr style=\"text-align: right;\">\n",
       "      <th></th>\n",
       "      <th>age</th>\n",
       "      <th>job</th>\n",
       "      <th>marital</th>\n",
       "      <th>education</th>\n",
       "      <th>default</th>\n",
       "      <th>housing</th>\n",
       "      <th>loan</th>\n",
       "      <th>contact</th>\n",
       "      <th>month</th>\n",
       "      <th>day_of_week</th>\n",
       "      <th>...</th>\n",
       "      <th>campaign</th>\n",
       "      <th>pdays</th>\n",
       "      <th>previous</th>\n",
       "      <th>poutcome</th>\n",
       "      <th>emp.var.rate</th>\n",
       "      <th>cons.price.idx</th>\n",
       "      <th>cons.conf.idx</th>\n",
       "      <th>euribor3m</th>\n",
       "      <th>nr.employed</th>\n",
       "      <th>y</th>\n",
       "    </tr>\n",
       "  </thead>\n",
       "  <tbody>\n",
       "    <tr>\n",
       "      <th>0</th>\n",
       "      <td>56</td>\n",
       "      <td>housemaid</td>\n",
       "      <td>married</td>\n",
       "      <td>basic.4y</td>\n",
       "      <td>no</td>\n",
       "      <td>no</td>\n",
       "      <td>no</td>\n",
       "      <td>telephone</td>\n",
       "      <td>5</td>\n",
       "      <td>1</td>\n",
       "      <td>...</td>\n",
       "      <td>1</td>\n",
       "      <td>999</td>\n",
       "      <td>0</td>\n",
       "      <td>nonexistent</td>\n",
       "      <td>1.1</td>\n",
       "      <td>93.994</td>\n",
       "      <td>-36.4</td>\n",
       "      <td>4.857</td>\n",
       "      <td>5191.0</td>\n",
       "      <td>no</td>\n",
       "    </tr>\n",
       "    <tr>\n",
       "      <th>1</th>\n",
       "      <td>57</td>\n",
       "      <td>services</td>\n",
       "      <td>married</td>\n",
       "      <td>high.school</td>\n",
       "      <td>unknown</td>\n",
       "      <td>no</td>\n",
       "      <td>no</td>\n",
       "      <td>telephone</td>\n",
       "      <td>5</td>\n",
       "      <td>1</td>\n",
       "      <td>...</td>\n",
       "      <td>1</td>\n",
       "      <td>999</td>\n",
       "      <td>0</td>\n",
       "      <td>nonexistent</td>\n",
       "      <td>1.1</td>\n",
       "      <td>93.994</td>\n",
       "      <td>-36.4</td>\n",
       "      <td>4.857</td>\n",
       "      <td>5191.0</td>\n",
       "      <td>no</td>\n",
       "    </tr>\n",
       "    <tr>\n",
       "      <th>2</th>\n",
       "      <td>37</td>\n",
       "      <td>services</td>\n",
       "      <td>married</td>\n",
       "      <td>high.school</td>\n",
       "      <td>no</td>\n",
       "      <td>yes</td>\n",
       "      <td>no</td>\n",
       "      <td>telephone</td>\n",
       "      <td>5</td>\n",
       "      <td>1</td>\n",
       "      <td>...</td>\n",
       "      <td>1</td>\n",
       "      <td>999</td>\n",
       "      <td>0</td>\n",
       "      <td>nonexistent</td>\n",
       "      <td>1.1</td>\n",
       "      <td>93.994</td>\n",
       "      <td>-36.4</td>\n",
       "      <td>4.857</td>\n",
       "      <td>5191.0</td>\n",
       "      <td>no</td>\n",
       "    </tr>\n",
       "    <tr>\n",
       "      <th>3</th>\n",
       "      <td>40</td>\n",
       "      <td>admin.</td>\n",
       "      <td>married</td>\n",
       "      <td>basic.6y</td>\n",
       "      <td>no</td>\n",
       "      <td>no</td>\n",
       "      <td>no</td>\n",
       "      <td>telephone</td>\n",
       "      <td>5</td>\n",
       "      <td>1</td>\n",
       "      <td>...</td>\n",
       "      <td>1</td>\n",
       "      <td>999</td>\n",
       "      <td>0</td>\n",
       "      <td>nonexistent</td>\n",
       "      <td>1.1</td>\n",
       "      <td>93.994</td>\n",
       "      <td>-36.4</td>\n",
       "      <td>4.857</td>\n",
       "      <td>5191.0</td>\n",
       "      <td>no</td>\n",
       "    </tr>\n",
       "    <tr>\n",
       "      <th>4</th>\n",
       "      <td>56</td>\n",
       "      <td>services</td>\n",
       "      <td>married</td>\n",
       "      <td>high.school</td>\n",
       "      <td>no</td>\n",
       "      <td>no</td>\n",
       "      <td>yes</td>\n",
       "      <td>telephone</td>\n",
       "      <td>5</td>\n",
       "      <td>1</td>\n",
       "      <td>...</td>\n",
       "      <td>1</td>\n",
       "      <td>999</td>\n",
       "      <td>0</td>\n",
       "      <td>nonexistent</td>\n",
       "      <td>1.1</td>\n",
       "      <td>93.994</td>\n",
       "      <td>-36.4</td>\n",
       "      <td>4.857</td>\n",
       "      <td>5191.0</td>\n",
       "      <td>no</td>\n",
       "    </tr>\n",
       "  </tbody>\n",
       "</table>\n",
       "<p>5 rows × 21 columns</p>\n",
       "</div>"
      ],
      "text/plain": [
       "   age        job  marital    education  default housing loan    contact  \\\n",
       "0   56  housemaid  married     basic.4y       no      no   no  telephone   \n",
       "1   57   services  married  high.school  unknown      no   no  telephone   \n",
       "2   37   services  married  high.school       no     yes   no  telephone   \n",
       "3   40     admin.  married     basic.6y       no      no   no  telephone   \n",
       "4   56   services  married  high.school       no      no  yes  telephone   \n",
       "\n",
       "  month  day_of_week  ...  campaign  pdays  previous     poutcome  \\\n",
       "0     5            1  ...         1    999         0  nonexistent   \n",
       "1     5            1  ...         1    999         0  nonexistent   \n",
       "2     5            1  ...         1    999         0  nonexistent   \n",
       "3     5            1  ...         1    999         0  nonexistent   \n",
       "4     5            1  ...         1    999         0  nonexistent   \n",
       "\n",
       "  emp.var.rate  cons.price.idx  cons.conf.idx  euribor3m  nr.employed   y  \n",
       "0          1.1          93.994          -36.4      4.857       5191.0  no  \n",
       "1          1.1          93.994          -36.4      4.857       5191.0  no  \n",
       "2          1.1          93.994          -36.4      4.857       5191.0  no  \n",
       "3          1.1          93.994          -36.4      4.857       5191.0  no  \n",
       "4          1.1          93.994          -36.4      4.857       5191.0  no  \n",
       "\n",
       "[5 rows x 21 columns]"
      ]
     },
     "execution_count": 31,
     "metadata": {},
     "output_type": "execute_result"
    }
   ],
   "source": [
    "df.head()"
   ]
  },
  {
   "cell_type": "code",
   "execution_count": 32,
   "id": "c472f6d9",
   "metadata": {},
   "outputs": [
    {
     "name": "stdout",
     "output_type": "stream",
     "text": [
      "variable: duration\n",
      "\n",
      "Descriptive stats:\n",
      "count    41188.0\n",
      "mean       258.0\n",
      "std        259.0\n",
      "min          0.0\n",
      "25%        102.0\n",
      "50%        180.0\n",
      "75%        319.0\n",
      "max       4918.0\n",
      "Name: duration, dtype: float64\n"
     ]
    }
   ],
   "source": [
    "# Description : last contact duration, in seconds (numeric). \n",
    "\n",
    "var = 'duration'\n",
    "print('variable:', var)\n",
    "print()\n",
    "print('Descriptive stats:')\n",
    "print(df[var].describe().round())"
   ]
  },
  {
   "cell_type": "markdown",
   "id": "e66a30de",
   "metadata": {},
   "source": [
    "As we can see here the difference between min and max value is to high,Here we may have outliers."
   ]
  },
  {
   "cell_type": "code",
   "execution_count": 33,
   "id": "b0b59e88",
   "metadata": {},
   "outputs": [
    {
     "name": "stdout",
     "output_type": "stream",
     "text": [
      "variable: campaign\n",
      "\n",
      "Descriptive stats:\n",
      "count    41188.0\n",
      "mean         3.0\n",
      "std          3.0\n",
      "min          1.0\n",
      "25%          1.0\n",
      "50%          2.0\n",
      "75%          3.0\n",
      "max         56.0\n",
      "Name: campaign, dtype: float64\n"
     ]
    }
   ],
   "source": [
    " # Description : number of contacts performed during this campaign and for this client\n",
    "\n",
    "var = 'campaign'\n",
    "\n",
    "print('variable:', var)\n",
    "print()\n",
    "print('Descriptive stats:')\n",
    "print(df[var].describe().round())"
   ]
  },
  {
   "cell_type": "code",
   "execution_count": 34,
   "id": "2068bb11",
   "metadata": {},
   "outputs": [
    {
     "name": "stdout",
     "output_type": "stream",
     "text": [
      "variable: pdays\n",
      "\n",
      "Descriptive stats:\n",
      "count    41188.0\n",
      "mean       962.0\n",
      "std        187.0\n",
      "min          0.0\n",
      "25%        999.0\n",
      "50%        999.0\n",
      "75%        999.0\n",
      "max        999.0\n",
      "Name: pdays, dtype: float64\n"
     ]
    }
   ],
   "source": [
    "# Description : number of days that passed by after the client was last contacted from a previous campaign\n",
    "\n",
    "var = 'pdays'\n",
    "\n",
    "print('variable:', var)\n",
    "print()\n",
    "print('Descriptive stats:')\n",
    "print(df[var].describe().round())"
   ]
  },
  {
   "cell_type": "markdown",
   "id": "85e1a319",
   "metadata": {},
   "source": [
    "we may have outliers here also\n"
   ]
  },
  {
   "cell_type": "code",
   "execution_count": 35,
   "id": "93667f77",
   "metadata": {},
   "outputs": [
    {
     "name": "stdout",
     "output_type": "stream",
     "text": [
      "variable: previous\n",
      "\n",
      "Descriptive stats:\n",
      "count    41188.0\n",
      "mean         0.0\n",
      "std          0.0\n",
      "min          0.0\n",
      "25%          0.0\n",
      "50%          0.0\n",
      "75%          0.0\n",
      "max          7.0\n",
      "Name: previous, dtype: float64\n"
     ]
    }
   ],
   "source": [
    "# Description : number of contacts performed before this campaign and for this client (numeric)\n",
    "\n",
    "var = 'previous'\n",
    "\n",
    "print('variable:', var)\n",
    "print()\n",
    "print('Descriptive stats:')\n",
    "print(df[var].describe().round())"
   ]
  },
  {
   "cell_type": "code",
   "execution_count": 36,
   "id": "767a1496",
   "metadata": {},
   "outputs": [
    {
     "name": "stdout",
     "output_type": "stream",
     "text": [
      "variable: poutcome\n",
      "\n",
      "Unique Value Count: 3\n",
      "['nonexistent' 'failure' 'success']\n",
      "object\n"
     ]
    }
   ],
   "source": [
    "# Variable : poutcome\n",
    "# Description : outcome of the previous marketing campaign\n",
    "var = 'poutcome'\n",
    "\n",
    "print('variable:', var)\n",
    "print()\n",
    "print('Unique Value Count:', df[var].nunique())\n",
    "print(df[var].unique())\n",
    "print(df[var].dtype)"
   ]
  },
  {
   "cell_type": "code",
   "execution_count": 37,
   "id": "2da293ba",
   "metadata": {},
   "outputs": [
    {
     "name": "stdout",
     "output_type": "stream",
     "text": [
      "variable: emp.var.rate\n",
      "\n",
      "Descriptive stats:\n",
      "count    41188.0\n",
      "mean         0.0\n",
      "std          2.0\n",
      "min         -3.0\n",
      "25%         -2.0\n",
      "50%          1.0\n",
      "75%          1.0\n",
      "max          1.0\n",
      "Name: emp.var.rate, dtype: float64\n"
     ]
    }
   ],
   "source": [
    "# Description : employment variation rate \n",
    "\n",
    "var = 'emp.var.rate'\n",
    "\n",
    "print('variable:', var)\n",
    "print()\n",
    "print('Descriptive stats:')\n",
    "print(df[var].describe().round())"
   ]
  },
  {
   "cell_type": "code",
   "execution_count": 38,
   "id": "5105854e",
   "metadata": {},
   "outputs": [],
   "source": [
    "df.rename(columns={'emp.var.rate':'emp_var_rate'}, inplace=True)"
   ]
  },
  {
   "cell_type": "code",
   "execution_count": 39,
   "id": "25eade5e",
   "metadata": {},
   "outputs": [
    {
     "name": "stdout",
     "output_type": "stream",
     "text": [
      "variable: cons.price.idx\n",
      "\n",
      "Descriptive stats:\n",
      "count    41188.0\n",
      "mean        94.0\n",
      "std          1.0\n",
      "min         92.0\n",
      "25%         93.0\n",
      "50%         94.0\n",
      "75%         94.0\n",
      "max         95.0\n",
      "Name: cons.price.idx, dtype: float64\n"
     ]
    }
   ],
   "source": [
    "# Description : consumer price index - monthly indicator (numeric)\n",
    "\n",
    "\n",
    "var = 'cons.price.idx'\n",
    "\n",
    "print('variable:', var)\n",
    "print()\n",
    "print('Descriptive stats:')\n",
    "print(df[var].describe().round())"
   ]
  },
  {
   "cell_type": "code",
   "execution_count": 41,
   "id": "2726c59f",
   "metadata": {},
   "outputs": [],
   "source": [
    "df.rename(columns={'cons.price.idx':'cons_price_idx'}, inplace=True)\n",
    "df.rename(columns={'cons.conf.idx':'cons_conf_idx'}, inplace=True)\n",
    "df.rename(columns={'nr.employed':'nr_employed'}, inplace=True)"
   ]
  },
  {
   "cell_type": "code",
   "execution_count": 42,
   "id": "5babe769",
   "metadata": {},
   "outputs": [
    {
     "name": "stdout",
     "output_type": "stream",
     "text": [
      "variable: y\n",
      "\n",
      "Unique Value Count: 2\n",
      "['no' 'yes']\n",
      "object\n"
     ]
    }
   ],
   "source": [
    "# Description :  Subscribed or not?\n",
    "var = 'y'\n",
    "\n",
    "print('variable:', var)\n",
    "print()\n",
    "print('Unique Value Count:', df[var].nunique())\n",
    "print(df[var].unique())\n",
    "print(df[var].dtype)"
   ]
  },
  {
   "cell_type": "code",
   "execution_count": 43,
   "id": "1260944d",
   "metadata": {},
   "outputs": [
    {
     "name": "stdout",
     "output_type": "stream",
     "text": [
      "[0 1]\n"
     ]
    }
   ],
   "source": [
    "#let's change it into numeric value that is 0 or 1\n",
    "y_rename = {'yes':1, 'no':0}\n",
    "df['y'] = df['y'].map(y_rename)\n",
    "\n",
    "print(df['y'].unique())"
   ]
  },
  {
   "cell_type": "code",
   "execution_count": 44,
   "id": "e6cc9b06",
   "metadata": {},
   "outputs": [],
   "source": [
    "df.rename(columns={'y':'subs_status'}, inplace=True)"
   ]
  },
  {
   "cell_type": "code",
   "execution_count": 48,
   "id": "4153a7c1",
   "metadata": {},
   "outputs": [
    {
     "data": {
      "text/html": [
       "<div>\n",
       "<style scoped>\n",
       "    .dataframe tbody tr th:only-of-type {\n",
       "        vertical-align: middle;\n",
       "    }\n",
       "\n",
       "    .dataframe tbody tr th {\n",
       "        vertical-align: top;\n",
       "    }\n",
       "\n",
       "    .dataframe thead th {\n",
       "        text-align: right;\n",
       "    }\n",
       "</style>\n",
       "<table border=\"1\" class=\"dataframe\">\n",
       "  <thead>\n",
       "    <tr style=\"text-align: right;\">\n",
       "      <th></th>\n",
       "      <th>age</th>\n",
       "      <th>job</th>\n",
       "      <th>marital</th>\n",
       "      <th>education</th>\n",
       "      <th>default</th>\n",
       "      <th>housing</th>\n",
       "      <th>loan</th>\n",
       "      <th>contact</th>\n",
       "      <th>month</th>\n",
       "      <th>day_of_week</th>\n",
       "      <th>...</th>\n",
       "      <th>campaign</th>\n",
       "      <th>pdays</th>\n",
       "      <th>previous</th>\n",
       "      <th>poutcome</th>\n",
       "      <th>emp_var_rate</th>\n",
       "      <th>cons_price_idx</th>\n",
       "      <th>cons_conf_idx</th>\n",
       "      <th>euribor3m</th>\n",
       "      <th>nr_employed</th>\n",
       "      <th>subs_status</th>\n",
       "    </tr>\n",
       "  </thead>\n",
       "  <tbody>\n",
       "    <tr>\n",
       "      <th>0</th>\n",
       "      <td>56</td>\n",
       "      <td>housemaid</td>\n",
       "      <td>married</td>\n",
       "      <td>basic.4y</td>\n",
       "      <td>no</td>\n",
       "      <td>no</td>\n",
       "      <td>no</td>\n",
       "      <td>telephone</td>\n",
       "      <td>5</td>\n",
       "      <td>1</td>\n",
       "      <td>...</td>\n",
       "      <td>1</td>\n",
       "      <td>999</td>\n",
       "      <td>0</td>\n",
       "      <td>nonexistent</td>\n",
       "      <td>1.1</td>\n",
       "      <td>93.994</td>\n",
       "      <td>-36.4</td>\n",
       "      <td>4.857</td>\n",
       "      <td>5191.0</td>\n",
       "      <td>0</td>\n",
       "    </tr>\n",
       "    <tr>\n",
       "      <th>1</th>\n",
       "      <td>57</td>\n",
       "      <td>services</td>\n",
       "      <td>married</td>\n",
       "      <td>high.school</td>\n",
       "      <td>unknown</td>\n",
       "      <td>no</td>\n",
       "      <td>no</td>\n",
       "      <td>telephone</td>\n",
       "      <td>5</td>\n",
       "      <td>1</td>\n",
       "      <td>...</td>\n",
       "      <td>1</td>\n",
       "      <td>999</td>\n",
       "      <td>0</td>\n",
       "      <td>nonexistent</td>\n",
       "      <td>1.1</td>\n",
       "      <td>93.994</td>\n",
       "      <td>-36.4</td>\n",
       "      <td>4.857</td>\n",
       "      <td>5191.0</td>\n",
       "      <td>0</td>\n",
       "    </tr>\n",
       "    <tr>\n",
       "      <th>2</th>\n",
       "      <td>37</td>\n",
       "      <td>services</td>\n",
       "      <td>married</td>\n",
       "      <td>high.school</td>\n",
       "      <td>no</td>\n",
       "      <td>yes</td>\n",
       "      <td>no</td>\n",
       "      <td>telephone</td>\n",
       "      <td>5</td>\n",
       "      <td>1</td>\n",
       "      <td>...</td>\n",
       "      <td>1</td>\n",
       "      <td>999</td>\n",
       "      <td>0</td>\n",
       "      <td>nonexistent</td>\n",
       "      <td>1.1</td>\n",
       "      <td>93.994</td>\n",
       "      <td>-36.4</td>\n",
       "      <td>4.857</td>\n",
       "      <td>5191.0</td>\n",
       "      <td>0</td>\n",
       "    </tr>\n",
       "    <tr>\n",
       "      <th>3</th>\n",
       "      <td>40</td>\n",
       "      <td>admin.</td>\n",
       "      <td>married</td>\n",
       "      <td>basic.6y</td>\n",
       "      <td>no</td>\n",
       "      <td>no</td>\n",
       "      <td>no</td>\n",
       "      <td>telephone</td>\n",
       "      <td>5</td>\n",
       "      <td>1</td>\n",
       "      <td>...</td>\n",
       "      <td>1</td>\n",
       "      <td>999</td>\n",
       "      <td>0</td>\n",
       "      <td>nonexistent</td>\n",
       "      <td>1.1</td>\n",
       "      <td>93.994</td>\n",
       "      <td>-36.4</td>\n",
       "      <td>4.857</td>\n",
       "      <td>5191.0</td>\n",
       "      <td>0</td>\n",
       "    </tr>\n",
       "    <tr>\n",
       "      <th>4</th>\n",
       "      <td>56</td>\n",
       "      <td>services</td>\n",
       "      <td>married</td>\n",
       "      <td>high.school</td>\n",
       "      <td>no</td>\n",
       "      <td>no</td>\n",
       "      <td>yes</td>\n",
       "      <td>telephone</td>\n",
       "      <td>5</td>\n",
       "      <td>1</td>\n",
       "      <td>...</td>\n",
       "      <td>1</td>\n",
       "      <td>999</td>\n",
       "      <td>0</td>\n",
       "      <td>nonexistent</td>\n",
       "      <td>1.1</td>\n",
       "      <td>93.994</td>\n",
       "      <td>-36.4</td>\n",
       "      <td>4.857</td>\n",
       "      <td>5191.0</td>\n",
       "      <td>0</td>\n",
       "    </tr>\n",
       "    <tr>\n",
       "      <th>5</th>\n",
       "      <td>45</td>\n",
       "      <td>services</td>\n",
       "      <td>married</td>\n",
       "      <td>basic.9y</td>\n",
       "      <td>unknown</td>\n",
       "      <td>no</td>\n",
       "      <td>no</td>\n",
       "      <td>telephone</td>\n",
       "      <td>5</td>\n",
       "      <td>1</td>\n",
       "      <td>...</td>\n",
       "      <td>1</td>\n",
       "      <td>999</td>\n",
       "      <td>0</td>\n",
       "      <td>nonexistent</td>\n",
       "      <td>1.1</td>\n",
       "      <td>93.994</td>\n",
       "      <td>-36.4</td>\n",
       "      <td>4.857</td>\n",
       "      <td>5191.0</td>\n",
       "      <td>0</td>\n",
       "    </tr>\n",
       "    <tr>\n",
       "      <th>6</th>\n",
       "      <td>59</td>\n",
       "      <td>admin.</td>\n",
       "      <td>married</td>\n",
       "      <td>professional.course</td>\n",
       "      <td>no</td>\n",
       "      <td>no</td>\n",
       "      <td>no</td>\n",
       "      <td>telephone</td>\n",
       "      <td>5</td>\n",
       "      <td>1</td>\n",
       "      <td>...</td>\n",
       "      <td>1</td>\n",
       "      <td>999</td>\n",
       "      <td>0</td>\n",
       "      <td>nonexistent</td>\n",
       "      <td>1.1</td>\n",
       "      <td>93.994</td>\n",
       "      <td>-36.4</td>\n",
       "      <td>4.857</td>\n",
       "      <td>5191.0</td>\n",
       "      <td>0</td>\n",
       "    </tr>\n",
       "    <tr>\n",
       "      <th>7</th>\n",
       "      <td>41</td>\n",
       "      <td>blue-collar</td>\n",
       "      <td>married</td>\n",
       "      <td>unknown</td>\n",
       "      <td>unknown</td>\n",
       "      <td>no</td>\n",
       "      <td>no</td>\n",
       "      <td>telephone</td>\n",
       "      <td>5</td>\n",
       "      <td>1</td>\n",
       "      <td>...</td>\n",
       "      <td>1</td>\n",
       "      <td>999</td>\n",
       "      <td>0</td>\n",
       "      <td>nonexistent</td>\n",
       "      <td>1.1</td>\n",
       "      <td>93.994</td>\n",
       "      <td>-36.4</td>\n",
       "      <td>4.857</td>\n",
       "      <td>5191.0</td>\n",
       "      <td>0</td>\n",
       "    </tr>\n",
       "    <tr>\n",
       "      <th>8</th>\n",
       "      <td>24</td>\n",
       "      <td>technician</td>\n",
       "      <td>single</td>\n",
       "      <td>professional.course</td>\n",
       "      <td>no</td>\n",
       "      <td>yes</td>\n",
       "      <td>no</td>\n",
       "      <td>telephone</td>\n",
       "      <td>5</td>\n",
       "      <td>1</td>\n",
       "      <td>...</td>\n",
       "      <td>1</td>\n",
       "      <td>999</td>\n",
       "      <td>0</td>\n",
       "      <td>nonexistent</td>\n",
       "      <td>1.1</td>\n",
       "      <td>93.994</td>\n",
       "      <td>-36.4</td>\n",
       "      <td>4.857</td>\n",
       "      <td>5191.0</td>\n",
       "      <td>0</td>\n",
       "    </tr>\n",
       "    <tr>\n",
       "      <th>9</th>\n",
       "      <td>25</td>\n",
       "      <td>services</td>\n",
       "      <td>single</td>\n",
       "      <td>high.school</td>\n",
       "      <td>no</td>\n",
       "      <td>yes</td>\n",
       "      <td>no</td>\n",
       "      <td>telephone</td>\n",
       "      <td>5</td>\n",
       "      <td>1</td>\n",
       "      <td>...</td>\n",
       "      <td>1</td>\n",
       "      <td>999</td>\n",
       "      <td>0</td>\n",
       "      <td>nonexistent</td>\n",
       "      <td>1.1</td>\n",
       "      <td>93.994</td>\n",
       "      <td>-36.4</td>\n",
       "      <td>4.857</td>\n",
       "      <td>5191.0</td>\n",
       "      <td>0</td>\n",
       "    </tr>\n",
       "  </tbody>\n",
       "</table>\n",
       "<p>10 rows × 21 columns</p>\n",
       "</div>"
      ],
      "text/plain": [
       "   age          job  marital            education  default housing loan  \\\n",
       "0   56    housemaid  married             basic.4y       no      no   no   \n",
       "1   57     services  married          high.school  unknown      no   no   \n",
       "2   37     services  married          high.school       no     yes   no   \n",
       "3   40       admin.  married             basic.6y       no      no   no   \n",
       "4   56     services  married          high.school       no      no  yes   \n",
       "5   45     services  married             basic.9y  unknown      no   no   \n",
       "6   59       admin.  married  professional.course       no      no   no   \n",
       "7   41  blue-collar  married              unknown  unknown      no   no   \n",
       "8   24   technician   single  professional.course       no     yes   no   \n",
       "9   25     services   single          high.school       no     yes   no   \n",
       "\n",
       "     contact month  day_of_week  ...  campaign  pdays  previous     poutcome  \\\n",
       "0  telephone     5            1  ...         1    999         0  nonexistent   \n",
       "1  telephone     5            1  ...         1    999         0  nonexistent   \n",
       "2  telephone     5            1  ...         1    999         0  nonexistent   \n",
       "3  telephone     5            1  ...         1    999         0  nonexistent   \n",
       "4  telephone     5            1  ...         1    999         0  nonexistent   \n",
       "5  telephone     5            1  ...         1    999         0  nonexistent   \n",
       "6  telephone     5            1  ...         1    999         0  nonexistent   \n",
       "7  telephone     5            1  ...         1    999         0  nonexistent   \n",
       "8  telephone     5            1  ...         1    999         0  nonexistent   \n",
       "9  telephone     5            1  ...         1    999         0  nonexistent   \n",
       "\n",
       "  emp_var_rate  cons_price_idx  cons_conf_idx  euribor3m  nr_employed  \\\n",
       "0          1.1          93.994          -36.4      4.857       5191.0   \n",
       "1          1.1          93.994          -36.4      4.857       5191.0   \n",
       "2          1.1          93.994          -36.4      4.857       5191.0   \n",
       "3          1.1          93.994          -36.4      4.857       5191.0   \n",
       "4          1.1          93.994          -36.4      4.857       5191.0   \n",
       "5          1.1          93.994          -36.4      4.857       5191.0   \n",
       "6          1.1          93.994          -36.4      4.857       5191.0   \n",
       "7          1.1          93.994          -36.4      4.857       5191.0   \n",
       "8          1.1          93.994          -36.4      4.857       5191.0   \n",
       "9          1.1          93.994          -36.4      4.857       5191.0   \n",
       "\n",
       "   subs_status  \n",
       "0            0  \n",
       "1            0  \n",
       "2            0  \n",
       "3            0  \n",
       "4            0  \n",
       "5            0  \n",
       "6            0  \n",
       "7            0  \n",
       "8            0  \n",
       "9            0  \n",
       "\n",
       "[10 rows x 21 columns]"
      ]
     },
     "execution_count": 48,
     "metadata": {},
     "output_type": "execute_result"
    }
   ],
   "source": [
    "df.head(10)\n"
   ]
  },
  {
   "cell_type": "code",
   "execution_count": 53,
   "id": "2ae35589",
   "metadata": {},
   "outputs": [
    {
     "name": "stdout",
     "output_type": "stream",
     "text": [
      "0    36548\n",
      "1     4640\n",
      "Name: subs_status, dtype: int64\n",
      "\n",
      "0    88.734583\n",
      "1    11.265417\n",
      "Name: subs_status, dtype: float64\n"
     ]
    }
   ],
   "source": [
    "print(df['subs_status'].value_counts())\n",
    "print()\n",
    "print(df['subs_status'].value_counts(normalize=True)*100)"
   ]
  },
  {
   "cell_type": "code",
   "execution_count": 54,
   "id": "e6c35c95",
   "metadata": {},
   "outputs": [
    {
     "name": "stderr",
     "output_type": "stream",
     "text": [
      "C:\\Users\\91700\\Anaconda3\\lib\\site-packages\\seaborn\\_decorators.py:36: FutureWarning: Pass the following variable as a keyword arg: x. From version 0.12, the only valid positional argument will be `data`, and passing other arguments without an explicit keyword will result in an error or misinterpretation.\n",
      "  warnings.warn(\n"
     ]
    },
    {
     "data": {
      "image/png": "[encoded data removed]",
      "text/plain": [
       "<Figure size 432x288 with 1 Axes>"
      ]
     },
     "metadata": {},
     "output_type": "display_data"
    }
   ],
   "source": [
    "m= sns.countplot(df['subs_status'], palette='Set2')\n",
    "m.set(xticklabels=['Not Subscribed', 'Subscribed'])\n",
    "plt.show()"
   ]
  },
  {
   "cell_type": "code",
   "execution_count": 55,
   "id": "45ff07f9",
   "metadata": {},
   "outputs": [
    {
     "name": "stderr",
     "output_type": "stream",
     "text": [
      "C:\\Users\\91700\\Anaconda3\\lib\\site-packages\\seaborn\\_decorators.py:36: FutureWarning: Pass the following variable as a keyword arg: x. From version 0.12, the only valid positional argument will be `data`, and passing other arguments without an explicit keyword will result in an error or misinterpretation.\n",
      "  warnings.warn(\n"
     ]
    },
    {
     "data": {
      "image/png": "[encoded data removed]",
      "text/plain": [
       "<Figure size 2160x720 with 2 Axes>"
      ]
     },
     "metadata": {},
     "output_type": "display_data"
    }
   ],
   "source": [
    "#Analyzing the marital status\n",
    "fig, ax = plt.subplots(1,2, figsize=(30, 10))\n",
    "plt.suptitle('Subscription Status by Marital Status')\n",
    "sns.countplot(df['marital'], hue=df['subs_status'], palette='Set2', order=df['marital'].value_counts().index, ax=ax[0])\n",
    "ax[0].set_title('Bank Term Deposit count')\n",
    "graph = df.groupby('marital')['subs_status'].mean().sort_values()\n",
    "sns.barplot(x=graph.index, y=graph, color='blue', alpha=0.5, ax=ax[1])\n",
    "ax[1].set_title('Bank Term Deposit Acceptance Rate')\n",
    "\n",
    "\n",
    "plt.show()\n"
   ]
  },
  {
   "cell_type": "code",
   "execution_count": 59,
   "id": "bb0c0c5a",
   "metadata": {},
   "outputs": [
    {
     "name": "stderr",
     "output_type": "stream",
     "text": [
      "C:\\Users\\91700\\Anaconda3\\lib\\site-packages\\seaborn\\_decorators.py:36: FutureWarning: Pass the following variable as a keyword arg: x. From version 0.12, the only valid positional argument will be `data`, and passing other arguments without an explicit keyword will result in an error or misinterpretation.\n",
      "  warnings.warn(\n"
     ]
    },
    {
     "data": {
      "image/png": "[encoded data removed]",
      "text/plain": [
       "<Figure size 2160x720 with 2 Axes>"
      ]
     },
     "metadata": {},
     "output_type": "display_data"
    }
   ],
   "source": [
    "fig,ax=plt.subplots(1,2, figsize=(30,10))\n",
    "plt.suptitle('Subscription Status by jobs')\n",
    "sns.countplot(df['job'], hue=df['subs_status'],palette='Set2', order=df['job'].value_counts().index,ax=ax[0])\n",
    "ax[0].set_title('Bank Deposit count')\n",
    "\n",
    "graph = df.groupby('job')['subs_status'].mean().sort_values()\n",
    "sns.barplot(x=graph.index, y=graph, color='blue', alpha=0.5, ax=ax[1])\n",
    "ax[1].set_title('Bank Term Deposit Acceptance Rate')\n",
    "\n",
    "plt.show()"
   ]
  },
  {
   "cell_type": "markdown",
   "id": "86379c4b",
   "metadata": {},
   "source": [
    "Student and Retired people have high acceptance rate\n",
    "\n"
   ]
  },
  {
   "cell_type": "markdown",
   "id": "d7750110",
   "metadata": {},
   "source": [
    "Admin and blue collar are frequent clients of the company\n"
   ]
  },
  {
   "cell_type": "code",
   "execution_count": 62,
   "id": "8fa29dd4",
   "metadata": {},
   "outputs": [
    {
     "data": {
      "image/png": "[encoded data removed]",
      "text/plain": [
       "<Figure size 2160x720 with 2 Axes>"
      ]
     },
     "metadata": {},
     "output_type": "display_data"
    }
   ],
   "source": [
    "import seaborn as sns\n",
    "import matplotlib.pyplot as plt\n",
    "\n",
    "\n",
    "age_groups = ['18-24', '25-34', '35-44', '45-54', '55-64', '65+']\n",
    "age_bins = [18, 25, 35, 45, 55, 65, 100]\n",
    "df['age_group'] = pd.cut(df['age'], bins=age_bins, labels=age_groups, right=False)\n",
    "\n",
    "\n",
    "fig, ax = plt.subplots(1, 2, figsize=(30, 10))\n",
    "plt.suptitle('Subscription Status by Age Groups')\n",
    "\n",
    "sns.countplot(x='age_group', hue='subs_status', palette='Set2', order=age_groups, data=df, ax=ax[0])\n",
    "ax[0].set_title('Bank Deposit Count')\n",
    "ax[0].set_xlabel('Age Group')\n",
    "ax[0].set_ylabel('Count')\n",
    "ax[0].legend(title='Subscription Status')\n",
    "\n",
    "graph = df.groupby('age_group')['subs_status'].mean().sort_values()\n",
    "sns.barplot(x=graph.index, y=graph, color='blue', alpha=0.5, ax=ax[1])\n",
    "ax[1].set_title('Bank Term Deposit Acceptance Rate')\n",
    "ax[1].set_xlabel('Age Group')\n",
    "ax[1].set_ylabel('Acceptance Rate')\n",
    "\n",
    "plt.show()\n"
   ]
  },
  {
   "cell_type": "markdown",
   "id": "21db0e25",
   "metadata": {},
   "source": [
    "Age group between 25-34 are frequent clients "
   ]
  },
  {
   "cell_type": "markdown",
   "id": "f4381253",
   "metadata": {},
   "source": [
    "People above the age of 65 have higher acceptance rate "
   ]
  },
  {
   "cell_type": "code",
   "execution_count": 65,
   "id": "fbd38835",
   "metadata": {},
   "outputs": [
    {
     "data": {
      "image/png": "[encoded data removed]",
      "text/plain": [
       "<Figure size 2160x720 with 2 Axes>"
      ]
     },
     "metadata": {},
     "output_type": "display_data"
    }
   ],
   "source": [
    "fig, ax = plt.subplots(1,2, figsize=(30, 10))\n",
    "plt.suptitle('Subscription Status by Month')\n",
    "\n",
    "graph = df.groupby('month')['subs_status'].count().sort_values()\n",
    "sns.barplot(x=graph.index, y=graph, order=graph.index, color='blue', alpha=0.5, ax=ax[0])\n",
    "ax[0].set_title('Bank Term Deposit count')\n",
    "\n",
    "graph = df.groupby('month')['subs_status'].mean().sort_values()\n",
    "sns.barplot(x=graph.index, y=graph, order=graph.index, color='blue', alpha=0.5, ax=ax[1])\n",
    "ax[1].set_title('Acceptance Rate')\n",
    "\n",
    "plt.show()"
   ]
  },
  {
   "cell_type": "markdown",
   "id": "96c44d45",
   "metadata": {},
   "source": [
    "In May the clients are highest "
   ]
  },
  {
   "cell_type": "markdown",
   "id": "99fc5434",
   "metadata": {},
   "source": [
    "."
   ]
  },
  {
   "cell_type": "markdown",
   "id": "c8c97cf6",
   "metadata": {},
   "source": [
    "# Data Preprocessing"
   ]
  },
  {
   "cell_type": "markdown",
   "id": "9d63b34c",
   "metadata": {},
   "source": [
    "    16 Samples for inference set ,70% Train set and 30% Test set"
   ]
  },
  {
   "cell_type": "code",
   "execution_count": 66,
   "id": "f7f0bc58",
   "metadata": {},
   "outputs": [],
   "source": [
    "random_state = 42"
   ]
  },
  {
   "cell_type": "code",
   "execution_count": 67,
   "id": "bac52e0c",
   "metadata": {},
   "outputs": [],
   "source": [
    "inf_set=df.sample(16,random_state=random_state)\n"
   ]
  },
  {
   "cell_type": "code",
   "execution_count": 73,
   "id": "be3a77f5",
   "metadata": {},
   "outputs": [
    {
     "data": {
      "text/plain": [
       "(16, 22)"
      ]
     },
     "execution_count": 73,
     "metadata": {},
     "output_type": "execute_result"
    }
   ],
   "source": [
    "inf_set.shape"
   ]
  },
  {
   "cell_type": "code",
   "execution_count": 72,
   "id": "e7cdb57e",
   "metadata": {},
   "outputs": [
    {
     "data": {
      "text/plain": [
       "(41172, 22)"
      ]
     },
     "execution_count": 72,
     "metadata": {},
     "output_type": "execute_result"
    }
   ],
   "source": [
    "#Dropping the inference data \n",
    "\n",
    "train_test_data=df.drop(inf_set.index)\n",
    "train_test_data.reset_index(drop=True,inplace=True)\n",
    "train_test_data.shape"
   ]
  },
  {
   "cell_type": "code",
   "execution_count": 75,
   "id": "fd9ef515",
   "metadata": {},
   "outputs": [
    {
     "data": {
      "text/plain": [
       "(41188, 22)"
      ]
     },
     "execution_count": 75,
     "metadata": {},
     "output_type": "execute_result"
    }
   ],
   "source": [
    "df.shape"
   ]
  },
  {
   "cell_type": "code",
   "execution_count": 77,
   "id": "e4360ae6",
   "metadata": {},
   "outputs": [],
   "source": [
    "# Splitting the data\n",
    "\n",
    "# X input parameter only\n",
    "X = train_test_data.drop(['subs_status'], axis=1)\n",
    "\n",
    "# y target parameter only\n",
    "y = train_test_data['subs_status']"
   ]
  },
  {
   "cell_type": "code",
   "execution_count": 106,
   "id": "7aeba916",
   "metadata": {},
   "outputs": [
    {
     "name": "stderr",
     "output_type": "stream",
     "text": [
      "C:\\Users\\91700\\Anaconda3\\lib\\site-packages\\pandas\\core\\algorithms.py:798: FutureWarning: In a future version, the Index constructor will not infer numeric dtypes when passed object-dtype sequences (matching Series behavior)\n",
      "  uniques = Index(uniques)\n"
     ]
    }
   ],
   "source": [
    "X_encoded = pd.get_dummies(X, drop_first=True)\n",
    "X_train, X_test, y_train, y_test = train_test_split(X_encoded, y, test_size=0.2, random_state=42)\n"
   ]
  },
  {
   "cell_type": "code",
   "execution_count": 107,
   "id": "a836f86f",
   "metadata": {},
   "outputs": [
    {
     "name": "stdout",
     "output_type": "stream",
     "text": [
      "Train set :  (32937, 55)\n",
      "Test set :  (8235, 55)\n",
      "Inference set :  (16, 22)\n"
     ]
    }
   ],
   "source": [
    "print(\"Train set : \",X_train.shape)\n",
    "print(\"Test set : \",X_test.shape)\n",
    "print(\"Inference set : \",inf_set.shape)\n"
   ]
  },
  {
   "cell_type": "code",
   "execution_count": 108,
   "id": "45055ad6",
   "metadata": {},
   "outputs": [],
   "source": [
    "from scipy import stats\n",
    "\n",
    "z_scores = stats.zscore(df['previous'])\n",
    "df_no_outliers = df[(z_scores < 3) & (z_scores > -3)]\n"
   ]
  },
  {
   "cell_type": "code",
   "execution_count": 109,
   "id": "9c63112f",
   "metadata": {},
   "outputs": [],
   "source": [
    "from scipy import stats\n",
    "\n",
    "z_scores = stats.zscore(df['duration'])\n",
    "df_no_outliers = df[(z_scores < 3) & (z_scores > -3)]\n"
   ]
  },
  {
   "cell_type": "code",
   "execution_count": 110,
   "id": "a4e4bb86",
   "metadata": {},
   "outputs": [],
   "source": [
    "from scipy import stats\n",
    "\n",
    "z_scores = stats.zscore(df['campaign'])\n",
    "df_no_outliers = df[(z_scores < 3) & (z_scores > -3)]\n"
   ]
  },
  {
   "cell_type": "code",
   "execution_count": 111,
   "id": "3b6e8b2c",
   "metadata": {},
   "outputs": [],
   "source": [
    "from scipy import stats\n",
    "\n",
    "z_scores = stats.zscore(df['pdays'])\n",
    "df_no_outliers = df[(z_scores < 3) & (z_scores > -3)]\n"
   ]
  },
  {
   "cell_type": "code",
   "execution_count": 112,
   "id": "f8b48507",
   "metadata": {},
   "outputs": [],
   "source": [
    "from scipy import stats\n",
    "\n",
    "z_scores = stats.zscore(df['age'])\n",
    "df_no_outliers = df[(z_scores < 3) & (z_scores > -3)]\n"
   ]
  },
  {
   "cell_type": "code",
   "execution_count": 113,
   "id": "86d71162",
   "metadata": {},
   "outputs": [
    {
     "data": {
      "image/png": "[encoded data removed]",
      "text/plain": [
       "<Figure size 576x432 with 2 Axes>"
      ]
     },
     "metadata": {},
     "output_type": "display_data"
    }
   ],
   "source": [
    "import seaborn as sns\n",
    "import matplotlib.pyplot as plt\n",
    "\n",
    "numeric_columns = X_train.select_dtypes(include=['float64', 'int64']).columns\n",
    "\n",
    "correlation_matrix = X_train[numeric_columns].corr()\n",
    "\n",
    "plt.figure(figsize=(8, 6))\n",
    "sns.heatmap(correlation_matrix, annot=True, cmap='coolwarm', fmt=\".2f\", linewidths=0.5)\n",
    "plt.title(\"Correlation Matrix\")\n",
    "plt.show()\n"
   ]
  },
  {
   "cell_type": "code",
   "execution_count": 153,
   "id": "beec29a8",
   "metadata": {},
   "outputs": [
    {
     "data": {
      "image/png": "[encoded data removed]",
      "text/plain": [
       "<Figure size 1440x720 with 1 Axes>"
      ]
     },
     "metadata": {},
     "output_type": "display_data"
    }
   ],
   "source": [
    "df.corrwith(df['subs_status']).sort_values().plot.bar(figsize=(20,10), title='Correlation with `subs_status`', fontsize=12, rot=45, grid=True)\n",
    "plt.show()"
   ]
  },
  {
   "cell_type": "code",
   "execution_count": 114,
   "id": "675ad911",
   "metadata": {},
   "outputs": [
    {
     "name": "stdout",
     "output_type": "stream",
     "text": [
      "X_train Before (32937, 55)\n",
      "y_train Before (32937,)\n",
      "X_train After (32937, 55)\n",
      "y_train After (32937,)\n"
     ]
    }
   ],
   "source": [
    "\n",
    "print('X_train Before', X_train.shape)\n",
    "print('y_train Before', y_train.shape)\n",
    "print('X_train After', X_train.shape)\n",
    "print('y_train After', y_train.shape)"
   ]
  },
  {
   "cell_type": "markdown",
   "id": "af8bb0ee",
   "metadata": {},
   "source": [
    "# Model Evaluation"
   ]
  },
  {
   "cell_type": "code",
   "execution_count": 150,
   "id": "d13225d6",
   "metadata": {},
   "outputs": [
    {
     "name": "stdout",
     "output_type": "stream",
     "text": [
      "Accuracy: 0.91\n",
      "\n",
      "Confusion Matrix:\n",
      "[[7080  175]\n",
      " [ 555  425]]\n",
      "\n",
      "Classification Report:\n",
      "              precision    recall  f1-score   support\n",
      "\n",
      "           0       0.93      0.98      0.95      7255\n",
      "           1       0.71      0.43      0.54       980\n",
      "\n",
      "    accuracy                           0.91      8235\n",
      "   macro avg       0.82      0.70      0.74      8235\n",
      "weighted avg       0.90      0.91      0.90      8235\n",
      "\n"
     ]
    },
    {
     "data": {
      "image/png": "[encoded data removed]",
      "text/plain": [
       "<Figure size 576x432 with 1 Axes>"
      ]
     },
     "metadata": {},
     "output_type": "display_data"
    }
   ],
   "source": [
    "from sklearn.metrics import accuracy_score, classification_report, confusion_matrix\n",
    "\n",
    "\n",
    "scaler = StandardScaler()\n",
    "X_train_scaled = scaler.fit_transform(X_train)\n",
    "X_test_scaled = scaler.transform(X_test)\n",
    "\n",
    "model = LogisticRegression(random_state=42)\n",
    "\n",
    "model.fit(X_train_scaled, y_train)\n",
    "\n",
    "y_pred = model.predict(X_test_scaled)\n",
    "\n",
    "\n",
    "accuracy = accuracy_score(y_test, y_pred)\n",
    "conf_matrix = confusion_matrix(y_test, y_pred)\n",
    "classification_report_str = classification_report(y_test, y_pred)\n",
    "\n",
    "print(f\"Accuracy: {accuracy:.2f}\")\n",
    "print(\"\\nConfusion Matrix:\")\n",
    "print(conf_matrix)\n",
    "print(\"\\nClassification Report:\")\n",
    "print(classification_report_str)\n",
    "\n",
    "y_pred_prob = model.predict_proba(X_test_scaled)[:, 1]\n",
    "fpr, tpr, thresholds = roc_curve(y_test, y_pred_prob)\n",
    "roc_auc = auc(fpr, tpr)\n",
    "\n",
    "# Plot ROC curve\n",
    "plt.figure(figsize=(8, 6))\n",
    "plt.plot(fpr, tpr, color='darkorange', lw=2, label='ROC curve (area = {:.2f})'.format(roc_auc))\n",
    "plt.plot([0, 1], [0, 1], color='navy', lw=2, linestyle='--')\n",
    "plt.xlim([0.0, 1.0])\n",
    "plt.ylim([0.0, 1.05])\n",
    "plt.xlabel('False Positive Rate')\n",
    "plt.ylabel('True Positive Rate')\n",
    "plt.title('Receiver Operating Characteristic (ROC) Curve')\n",
    "plt.legend(loc='lower right')\n",
    "plt.show()\n"
   ]
  },
  {
   "cell_type": "code",
   "execution_count": 146,
   "id": "4032741c",
   "metadata": {},
   "outputs": [
    {
     "name": "stdout",
     "output_type": "stream",
     "text": [
      "Accuracy: 0.89\n",
      "\n",
      "Confusion Matrix:\n",
      "[[6803  452]\n",
      " [ 495  485]]\n",
      "\n",
      "Classification Report:\n",
      "              precision    recall  f1-score   support\n",
      "\n",
      "           0       0.93      0.94      0.93      7255\n",
      "           1       0.52      0.49      0.51       980\n",
      "\n",
      "    accuracy                           0.89      8235\n",
      "   macro avg       0.72      0.72      0.72      8235\n",
      "weighted avg       0.88      0.89      0.88      8235\n",
      "\n"
     ]
    },
    {
     "data": {
      "image/png": "[encoded data removed]",
      "text/plain": [
       "<Figure size 576x432 with 1 Axes>"
      ]
     },
     "metadata": {},
     "output_type": "display_data"
    }
   ],
   "source": [
    "from sklearn.metrics import roc_curve, auc\n",
    "import matplotlib.pyplot as plt\n",
    "\n",
    "model = DecisionTreeClassifier(random_state=42)\n",
    "scaler = StandardScaler()\n",
    "model.fit(X_train, y_train)\n",
    "\n",
    "y_pred = model.predict(X_test)\n",
    "\n",
    "accuracy = accuracy_score(y_test, y_pred)\n",
    "conf_matrix = confusion_matrix(y_test, y_pred)\n",
    "classification_report_str = classification_report(y_test, y_pred)\n",
    "\n",
    "\n",
    "print(f\"Accuracy: {accuracy:.2f}\")\n",
    "print(\"\\nConfusion Matrix:\")\n",
    "print(conf_matrix)\n",
    "print(\"\\nClassification Report:\")\n",
    "print(classification_report_str)\n",
    "\n",
    "from sklearn.metrics import roc_curve, auc\n",
    "import matplotlib.pyplot as plt\n",
    "\n",
    "def plot_roc_curve(model, X, y):\n",
    "    y_pred_prob = model.predict_proba(X)[:, 1]\n",
    "    fpr, tpr, _ = roc_curve(y, y_pred_prob)\n",
    "    roc_auc = auc(fpr, tpr)\n",
    "\n",
    "    # Plot ROC curve\n",
    "    plt.figure(figsize=(8, 6))\n",
    "    plt.plot(fpr, tpr, color='darkorange', lw=2, label='ROC curve (area = {:.2f})'.format(roc_auc))\n",
    "    plt.plot([0, 1], [0, 1], color='navy', lw=2, linestyle='--')\n",
    "    plt.xlim([0.0, 1.0])\n",
    "    plt.ylim([0.0, 1.05])\n",
    "    plt.xlabel('False Positive Rate')\n",
    "    plt.ylabel('True Positive Rate')\n",
    "    plt.title('Receiver Operating Characteristic (ROC) Curve')\n",
    "    plt.legend(loc='lower right')\n",
    "    plt.show()\n",
    "\n",
    "plot_roc_curve(model, X_test, y_test)\n",
    "\n"
   ]
  },
  {
   "cell_type": "code",
   "execution_count": 118,
   "id": "340cd1d4",
   "metadata": {},
   "outputs": [
    {
     "name": "stdout",
     "output_type": "stream",
     "text": [
      "Accuracy: 0.91\n",
      "\n",
      "Confusion Matrix:\n",
      "[[7049  206]\n",
      " [ 552  428]]\n",
      "\n",
      "Classification Report:\n",
      "              precision    recall  f1-score   support\n",
      "\n",
      "           0       0.93      0.97      0.95      7255\n",
      "           1       0.68      0.44      0.53       980\n",
      "\n",
      "    accuracy                           0.91      8235\n",
      "   macro avg       0.80      0.70      0.74      8235\n",
      "weighted avg       0.90      0.91      0.90      8235\n",
      "\n"
     ]
    }
   ],
   "source": [
    "model = RandomForestClassifier(n_estimators=100, random_state=42)\n",
    "\n",
    "model.fit(X_train, y_train)\n",
    "\n",
    "\n",
    "y_pred = model.predict(X_test)\n",
    "\n",
    "\n",
    "accuracy = accuracy_score(y_test, y_pred)\n",
    "conf_matrix = confusion_matrix(y_test, y_pred)\n",
    "classification_report_str = classification_report(y_test, y_pred)\n",
    "\n",
    "print(f\"Accuracy: {accuracy:.2f}\")\n",
    "print(\"\\nConfusion Matrix:\")\n",
    "print(conf_matrix)\n",
    "print(\"\\nClassification Report:\")\n",
    "print(classification_report_str)\n",
    "\n"
   ]
  },
  {
   "cell_type": "code",
   "execution_count": 119,
   "id": "a78e4888",
   "metadata": {},
   "outputs": [
    {
     "name": "stdout",
     "output_type": "stream",
     "text": [
      "Accuracy: 0.90\n",
      "\n",
      "Confusion Matrix:\n",
      "[[6900  355]\n",
      " [ 502  478]]\n",
      "\n",
      "Classification Report:\n",
      "              precision    recall  f1-score   support\n",
      "\n",
      "           0       0.93      0.95      0.94      7255\n",
      "           1       0.57      0.49      0.53       980\n",
      "\n",
      "    accuracy                           0.90      8235\n",
      "   macro avg       0.75      0.72      0.73      8235\n",
      "weighted avg       0.89      0.90      0.89      8235\n",
      "\n"
     ]
    }
   ],
   "source": [
    "model = KNeighborsClassifier(n_neighbors=3)\n",
    "\n",
    "\n",
    "model.fit(X_train, y_train)\n",
    "\n",
    "\n",
    "y_pred = model.predict(X_test)\n",
    "\n",
    "accuracy = accuracy_score(y_test, y_pred)\n",
    "conf_matrix = confusion_matrix(y_test, y_pred)\n",
    "classification_report_str = classification_report(y_test, y_pred)\n",
    "\n",
    "print(f\"Accuracy: {accuracy:.2f}\")\n",
    "print(\"\\nConfusion Matrix:\")\n",
    "print(conf_matrix)\n",
    "print(\"\\nClassification Report:\")\n",
    "print(classification_report_str)\n",
    "\n",
    "\n",
    "\n",
    "\n"
   ]
  },
  {
   "cell_type": "code",
   "execution_count": 120,
   "id": "dce62d4b",
   "metadata": {},
   "outputs": [
    {
     "name": "stdout",
     "output_type": "stream",
     "text": [
      "Accuracy: 0.90\n",
      "\n",
      "Confusion Matrix:\n",
      "[[7084  171]\n",
      " [ 629  351]]\n",
      "\n",
      "Classification Report:\n",
      "              precision    recall  f1-score   support\n",
      "\n",
      "           0       0.92      0.98      0.95      7255\n",
      "           1       0.67      0.36      0.47       980\n",
      "\n",
      "    accuracy                           0.90      8235\n",
      "   macro avg       0.80      0.67      0.71      8235\n",
      "weighted avg       0.89      0.90      0.89      8235\n",
      "\n"
     ]
    }
   ],
   "source": [
    "scaler = StandardScaler()\n",
    "X_train_scaled = scaler.fit_transform(X_train)\n",
    "X_test_scaled = scaler.transform(X_test)\n",
    "\n",
    "\n",
    "model = SVC(kernel='rbf', random_state=42)\n",
    "\n",
    "model.fit(X_train_scaled, y_train)\n",
    "\n",
    "y_pred = model.predict(X_test_scaled)\n",
    "\n",
    "accuracy = accuracy_score(y_test, y_pred)\n",
    "conf_matrix = confusion_matrix(y_test, y_pred)\n",
    "classification_report_str = classification_report(y_test, y_pred)\n",
    "\n",
    "print(f\"Accuracy: {accuracy:.2f}\")\n",
    "print(\"\\nConfusion Matrix:\")\n",
    "print(conf_matrix)\n",
    "print(\"\\nClassification Report:\")\n",
    "print(classification_report_str)"
   ]
  },
  {
   "cell_type": "code",
   "execution_count": 121,
   "id": "1ce062d3",
   "metadata": {},
   "outputs": [
    {
     "name": "stdout",
     "output_type": "stream",
     "text": [
      "Accuracy: 0.87\n",
      "\n",
      "Confusion Matrix:\n",
      "[[6665  590]\n",
      " [ 508  472]]\n",
      "\n",
      "Classification Report:\n",
      "              precision    recall  f1-score   support\n",
      "\n",
      "           0       0.93      0.92      0.92      7255\n",
      "           1       0.44      0.48      0.46       980\n",
      "\n",
      "    accuracy                           0.87      8235\n",
      "   macro avg       0.69      0.70      0.69      8235\n",
      "weighted avg       0.87      0.87      0.87      8235\n",
      "\n"
     ]
    }
   ],
   "source": [
    "model = GaussianNB()\n",
    "\n",
    "model.fit(X_train, y_train)\n",
    "\n",
    "y_pred = model.predict(X_test)\n",
    "\n",
    "accuracy = accuracy_score(y_test, y_pred)\n",
    "conf_matrix = confusion_matrix(y_test, y_pred)\n",
    "classification_report_str = classification_report(y_test, y_pred)\n",
    "\n",
    "print(f\"Accuracy: {accuracy:.2f}\")\n",
    "print(\"\\nConfusion Matrix:\")\n",
    "print(conf_matrix)\n",
    "print(\"\\nClassification Report:\")\n",
    "print(classification_report_str)"
   ]
  },
  {
   "cell_type": "code",
   "execution_count": 125,
   "id": "2cf2dfc6",
   "metadata": {},
   "outputs": [
    {
     "name": "stdout",
     "output_type": "stream",
     "text": [
      "LogisticRegression 0.91\n",
      "DecisionTreeClassifier 0.89\n",
      "RandomForestClassifier 0.91\n",
      "KNeighborsClassifier 0.9\n",
      "GaussianNB 0.87\n",
      "SVC 0.9\n"
     ]
    }
   ],
   "source": [
    "print(\"LogisticRegression\",0.91)\n",
    "print(\"DecisionTreeClassifier\",0.89)\n",
    "print(\"RandomForestClassifier\",0.91)\n",
    "print(\"KNeighborsClassifier\",0.90)\n",
    "print(\"GaussianNB\",0.87)\n",
    "print(\"SVC\",0.90)\n",
    "\n"
   ]
  },
  {
   "cell_type": "markdown",
   "id": "788eb051",
   "metadata": {},
   "source": [
    "Based on the above result , our best performing model is Logistic Regression and The most under performed model in this case is only Naive Bayes model."
   ]
  },
  {
   "cell_type": "markdown",
   "id": "09860ae5",
   "metadata": {},
   "source": [
    "# Questions\n"
   ]
  },
  {
   "cell_type": "markdown",
   "id": "0ebd6fc4",
   "metadata": {},
   "source": [
    "# 1) What is the distribution of the customer ages?"
   ]
  },
  {
   "cell_type": "markdown",
   "id": "e0fa2c26",
   "metadata": {},
   "source": [
    "Ans:- Using this we can easily evaluate \n",
    "    \n",
    "Descriptive stats:\n",
    "count    41188.00000\n",
    "mean        40.02406\n",
    "std         10.42125\n",
    "min         17.00000\n",
    "50%         38.00000\n",
    "max         98.00000\n",
    "Name: age, dtype: float64\n",
    "        \n",
    "The minimum age is 17 ,max age is 98 and mean age is around 40."
   ]
  },
  {
   "cell_type": "markdown",
   "id": "976acb1c",
   "metadata": {},
   "source": [
    "# 2) What is the relationship between customer age and subscription?"
   ]
  },
  {
   "cell_type": "markdown",
   "id": "d0c8ac3c",
   "metadata": {},
   "source": [
    "Ans:- By analyzing and visualizing the data and graph we can conclude that Age group between 25-34 are frequent clients and People above the age of 65 have higher acceptance rate."
   ]
  },
  {
   "cell_type": "markdown",
   "id": "338a0ddf",
   "metadata": {},
   "source": [
    "# 3)Are there any other factors that are correlated with subscription?"
   ]
  },
  {
   "cell_type": "markdown",
   "id": "c6f71969",
   "metadata": {},
   "source": [
    "Ans:- Based on graph above, we can conclude that:- \n",
    "top three negatively correlated : nr_employed, pdays, euribor3m, emp_var_rate\n",
    "top three positively correlated : duration, and previous"
   ]
  },
  {
   "cell_type": "markdown",
   "id": "d2d9ffae",
   "metadata": {},
   "source": [
    "# 4)What is the accuracy of the logistic regression model?"
   ]
  },
  {
   "cell_type": "markdown",
   "id": "c664b170",
   "metadata": {},
   "source": [
    "Ans:- Logistic regression is having the heighest accuracy and it is our best performing model with an accuracy of 0.91.   \n",
    "\n",
    "\n",
    "\n",
    "                     Classification Report:\n",
    "              precision    recall  f1-score   support\n",
    "\n",
    "           0       0.93      0.98      0.95      7255\n",
    "           1       0.71      0.43      0.54       980\n",
    "\n",
    "    accuracy                           0.91      8235\n"
   ]
  },
  {
   "cell_type": "markdown",
   "id": "c72fbc16",
   "metadata": {},
   "source": [
    "# 5)What are the most important features for the logistic regression model?"
   ]
  },
  {
   "cell_type": "markdown",
   "id": "6623e1d5",
   "metadata": {},
   "source": [
    "Ans:- a) The logistic regression statistic modeling technique is used when we have a binary outcome variable. For example:will the student pass or fail? Will it rain or not? ,will he buy subscription or not? etc.\n",
    "\n",
    "b) The logistic (or sigmoid) function transforms the log-odds into probabilities between 0 and 1.\n",
    "\n",
    "c)Logistic regression predicts probabilities rather than class labels"
   ]
  },
  {
   "cell_type": "markdown",
   "id": "71b3f042",
   "metadata": {},
   "source": [
    "# 6)What is the precision of the logistic regression model?"
   ]
  },
  {
   "cell_type": "markdown",
   "id": "edc123e8",
   "metadata": {},
   "source": [
    "Ans:- Precision is a metric used in classification models to evaluate the accuracy of the positive predictions made by the model. It is the ratio of true positive predictions to the total number of positive predictions made by the model. \n",
    "\n",
    "In our case the precision is around 0.93 for 0 and 0.71 for 1 for Logistic regression model ."
   ]
  },
  {
   "cell_type": "markdown",
   "id": "759a0bf0",
   "metadata": {},
   "source": [
    "# 7)What is the recall of the logistic regression model?"
   ]
  },
  {
   "cell_type": "markdown",
   "id": "8cbe631f",
   "metadata": {},
   "source": [
    "Ans:-It is used in classification models to evaluate the ability of the model to capture and correctly identify all the relevant instances of the positive class. \n",
    "\n",
    "In our case recall value is 0.98 for 0 and 0.54 for 1 in logistic regression model."
   ]
  },
  {
   "cell_type": "markdown",
   "id": "6b9284a3",
   "metadata": {},
   "source": [
    "# 8)What is the f1-score of the logistic regression model?"
   ]
  },
  {
   "cell_type": "markdown",
   "id": "e1ab1f78",
   "metadata": {},
   "source": [
    "Ans:- The F1-score is the harmonic mean of precision and recall, providing a balance between the two metrics. In our case it is 0.95 for 0 and 0.54 for 1."
   ]
  },
  {
   "cell_type": "markdown",
   "id": "5949cb06",
   "metadata": {},
   "source": [
    "# 9)How can you improve the performance of the logistic regression model?"
   ]
  },
  {
   "cell_type": "markdown",
   "id": "5cf369d1",
   "metadata": {},
   "source": [
    "Ans:- Some common method or ideas to improve the performance of the logistic regression model are:-\n",
    "\n",
    "a) Handle missing data appropriately\n",
    "\n",
    "b)Encode categorical variables properly (one-hot encoding or label encoding)\n",
    "\n",
    "c)Identify and handle outliers in the dataset\n",
    "\n",
    "d)Apply regularization to prevent overfitting(L1, L2 regularization)\n",
    "\n",
    "e)To Ensure that numerical features are on a similar scale(StandardScaler or MinMaxScaler)\n",
    "\n",
    "f)Cleaning the data properly and dealing with the missing and duplicate data."
   ]
  },
  {
   "cell_type": "markdown",
   "id": "c33885f9",
   "metadata": {},
   "source": [
    "# 10)What are the limitations of the logistic regression model?\n"
   ]
  },
  {
   "cell_type": "markdown",
   "id": "7eed2cf8",
   "metadata": {},
   "source": [
    "Ans:- a) If the number of observations is lesser than the number of features, Logistic Regression should not be used, otherwise, it may lead to overfitting.\n",
    "\n",
    "b)The major limitation of Logistic Regression is the assumption of linearity between the dependent variable and the independent variables.\n",
    "\n",
    "c)It constructs linear boundaries.\n",
    "\n",
    "d)It is tough to obtain complex relationships using logistic regression. More powerful and compact algorithms such as Neural Networks can easily outperform this algorithm."
   ]
  },
  {
   "cell_type": "markdown",
   "id": "ff8a46f0",
   "metadata": {},
   "source": [
    "# END"
   ]
  },
  {
   "cell_type": "code",
   "execution_count": null,
   "id": "9eea37b6",
   "metadata": {},
   "outputs": [],
   "source": []
  }
 ],
 "metadata": {
  "kernelspec": {
   "display_name": "Python 3 (ipykernel)",
   "language": "python",
   "name": "python3"
  },
  "language_info": {
   "codemirror_mode": {
    "name": "ipython",
    "version": 3
   },
   "file_extension": ".py",
   "mimetype": "text/x-python",
   "name": "python",
   "nbconvert_exporter": "python",
   "pygments_lexer": "ipython3",
   "version": "3.9.12"
  }
 },
 "nbformat": 4,
 "nbformat_minor": 5
}
